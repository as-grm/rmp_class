{
 "cells": [
  {
   "cell_type": "markdown",
   "id": "65ea9216-5ac1-4daa-b3f2-a257333b1ba5",
   "metadata": {},
   "source": [
    "# FVM for Heat Condution problem in 1D\n",
    "\n",
    "Author: aleksander.grm@fpp.uni-lj.si\n",
    "<br>\n",
    "Date: 24/11/2022"
   ]
  },
  {
   "cell_type": "code",
   "execution_count": 1,
   "id": "724848c3-4c3e-427f-945c-ebf1624d278d",
   "metadata": {},
   "outputs": [],
   "source": [
    "import math as mat\n",
    "import numpy as np\n",
    "import matplotlib.pyplot as mpl\n",
    "\n",
    "import scipy.integrate as spint\n",
    "\n",
    "# MatPlotLib set fonts\n",
    "mpl.rcParams['font.family'] = 'serif'\n",
    "mpl.rcParams['font.serif'] = ['DejaVu Serif']\n",
    "\n",
    "# MatPlotLib set LaTeX use\n",
    "mpl.rcParams['text.usetex'] = True\n",
    "mpl.rcParams['text.latex.preamble'] = r'\\usepackage{siunitx}'"
   ]
  },
  {
   "cell_type": "code",
   "execution_count": 2,
   "id": "50eabeee-39dc-4424-80b7-bbe606d04c95",
   "metadata": {},
   "outputs": [],
   "source": [
    "# Define the initial condition\n",
    "\n",
    "def initial_condition(N):\n",
    "        u0 = np.zeros(N)\n",
    "        mid = int(mat.floor((N+1)/2)) - 1\n",
    "        u0[mid] = 1\n",
    "        \n",
    "        return u0"
   ]
  },
  {
   "cell_type": "code",
   "execution_count": 3,
   "id": "0a28df3c-2f7b-4364-88e6-729ef9366513",
   "metadata": {},
   "outputs": [],
   "source": [
    "# Define coefficeit of heat conductivity\n",
    "\n",
    "def coeff_hc(k0,N, distribution):\n",
    "    k = np.zeros(N)\n",
    "\n",
    "    # constant\n",
    "    if distribution == 'constant':\n",
    "        for i in range(N):\n",
    "            k[i] = k0\n",
    "    elif distribution == 'hat':\n",
    "        dk = k0/(N+1)*2\n",
    "        k[0] = dk\n",
    "        for i in range(1,N):\n",
    "            if i < (N+1)/2:\n",
    "                k[i] = k[i-1] + dk\n",
    "            else:\n",
    "                k[i] = k[i-1] - dk\n",
    "    else:\n",
    "        for i in range(N):\n",
    "            k[i] = k0\n",
    "\n",
    "    return k"
   ]
  },
  {
   "cell_type": "code",
   "execution_count": 4,
   "id": "8dcd1794-bde7-4539-8db7-05a072fe8f50",
   "metadata": {},
   "outputs": [],
   "source": [
    "# Set time derivative matrix\n",
    "\n",
    "def set_dudt(t,u,k,h,N):\n",
    "    \n",
    "    dudt = np.zeros(N, dtype=float) # [i,j]: i-row, j-column\n",
    "    \n",
    "    # du0/dt\n",
    "    dudt[0] = k[0]/h**2 * (u[1] - u[0])\n",
    "    \n",
    "    # du1/dt, ... , du(N-2)/dt\n",
    "    for i in range(1,N-1):\n",
    "        dudt[i] = (k[i]*u[i+1] - (k[i] + k[i-1])*u[i] + k[i-1]*u[i-1])/h**2\n",
    "    \n",
    "    # du(N-1)/dt\n",
    "    dudt[N-1] = k[N-2]/h**2 * (u[N-2] - u[N-1])\n",
    "    \n",
    "    return dudt"
   ]
  },
  {
   "cell_type": "code",
   "execution_count": 5,
   "id": "108bd544-fa51-484a-bc0c-c5b167777d0e",
   "metadata": {},
   "outputs": [],
   "source": [
    "# Solve one time step\n",
    "# Forward FD scheme\n",
    "\n",
    "def find_next(u,dudt,dt,N):\n",
    "    \n",
    "    u_new = np.zeros(N)\n",
    "    \n",
    "    for i in range(N):\n",
    "        u_new[i] = u[i] + dudt[i]*dt\n",
    "        \n",
    "    return u_new"
   ]
  },
  {
   "cell_type": "code",
   "execution_count": 6,
   "id": "1abcf1a4-a4b9-4611-99a0-b35aaa42763c",
   "metadata": {},
   "outputs": [],
   "source": [
    "# Solve explicit time scheme\n",
    "\n",
    "def solve_time_naive(k,u0,h,dt,tEnd,N):\n",
    "    \n",
    "    t = 0\n",
    "    u = u0\n",
    "    \n",
    "    u_sol = []\n",
    "    while t < tEnd:\n",
    "        dudt = set_dudt(t,u,k,h,N)\n",
    "        u_new = find_next(u,dudt,dt,N)\n",
    "        u_sol.append(u_new)\n",
    "        \n",
    "        u = u_new\n",
    "        t = t + dt\n",
    "        \n",
    "    return np.array(u_sol)"
   ]
  },
  {
   "cell_type": "code",
   "execution_count": 7,
   "id": "c412a0f1-de8b-4d8d-8ec8-9eab515c8f8b",
   "metadata": {},
   "outputs": [],
   "source": [
    "def solve_time_correct(k,u0,h,tEnd,N):\n",
    "    \n",
    "    sol = spint.solve_ivp(set_dudt, [0,tEnd], u0, args=(k,h,N), method='LSODA')\n",
    "    \n",
    "    return [sol.t, sol.y]"
   ]
  },
  {
   "cell_type": "code",
   "execution_count": 36,
   "id": "07489bef-41f5-43c0-9777-965ef4beac9a",
   "metadata": {},
   "outputs": [
    {
     "name": "stdout",
     "output_type": "stream",
     "text": [
      "size(Tc) = 145\n"
     ]
    }
   ],
   "source": [
    "# Main program\n",
    "\n",
    "N = 100 # number of cells (set even number)\n",
    "h = 1/(N) # cell space\n",
    "x = np.linspace(0,1,N+1) # positions of cell sides\n",
    "ux = (np.linspace(0,1,N+1) + h/2)[:N] # positions of cell centers\n",
    "u0 = initial_condition(N)\n",
    "\n",
    "k0 = 10.0\n",
    "k = coeff_hc(k0,N-1,'constant')\n",
    "#k = coeff_hc(k0,N-1,'hat')\n",
    "\n",
    "dt = 0.001\n",
    "tEnd = 0.1\n",
    "\n",
    "un = solve_time_naive(k,u0,h,dt,tEnd,N)\n",
    "\n",
    "[tc, uc] = solve_time_correct(k,u0,h,tEnd,N)\n",
    "print('size(Tc) =', np.shape(tc)[0])"
   ]
  },
  {
   "cell_type": "code",
   "execution_count": 32,
   "id": "8bb8ae8e-35d0-4e1d-af79-58e74164e2d4",
   "metadata": {},
   "outputs": [
    {
     "data": {
      "image/png": "[encoded data removed]",
      "text/plain": [
       "<Figure size 432x288 with 2 Axes>"
      ]
     },
     "metadata": {
      "needs_background": "light"
     },
     "output_type": "display_data"
    }
   ],
   "source": [
    "fig, ax = mpl.subplots(2)\n",
    "\n",
    "ax[0].plot(x[1:N],k)\n",
    "ax[0].set_xticklabels([])\n",
    "ax[0].set_ylabel(r'$k(x)$')\n",
    "ax[0].grid()\n",
    "\n",
    "Nts = np.shape(un)[0]\n",
    "for i in range(Nts):\n",
    "    ax[1].plot(ux,un[i])\n",
    "    \n",
    "ax[1].set_xlabel('$x$')\n",
    "ax[1].set_ylabel('$u(x)$')\n",
    "ax[1].grid()\n",
    "\n",
    "fig.savefig('naive_integration.pdf')"
   ]
  },
  {
   "cell_type": "code",
   "execution_count": 37,
   "id": "db634b71-c781-4403-be00-73de844ed55f",
   "metadata": {},
   "outputs": [
    {
     "data": {
      "image/png": "[encoded data removed]",
      "text/plain": [
       "<Figure size 432x288 with 2 Axes>"
      ]
     },
     "metadata": {
      "needs_background": "light"
     },
     "output_type": "display_data"
    }
   ],
   "source": [
    "fig, ax = mpl.subplots(2)\n",
    "\n",
    "ax[0].plot(x[1:N],k)\n",
    "ax[0].set_xticklabels([])\n",
    "ax[0].set_ylabel(r'$k(x)$')\n",
    "ax[0].grid()\n",
    "\n",
    "Nts = np.shape(uc)[1]\n",
    "kN = 5\n",
    "dtk = mat.floor(Nts/kN)\n",
    "for i in range(kN):\n",
    "    tStr = '{:.5f}'.format(tc[i*dtk])\n",
    "    ax[1].plot(ux,uc[:,i*dtk], label=tStr)\n",
    "ax[1].set_xlabel('$x$')\n",
    "ax[1].set_ylabel('$u(x)$')\n",
    "ax[1].grid()\n",
    "ax[1].legend()\n",
    "\n",
    "fig.savefig('correct_integration_k=10.pdf')"
   ]
  },
  {
   "cell_type": "code",
   "execution_count": null,
   "id": "4e5154c3-103f-4bd8-944e-fd4d9e754f35",
   "metadata": {},
   "outputs": [],
   "source": []
  }
 ],
 "metadata": {
  "kernelspec": {
   "display_name": "MathLab",
   "language": "python",
   "name": "mathlab"
  },
  "language_info": {
   "codemirror_mode": {
    "name": "ipython",
    "version": 3
   },
   "file_extension": ".py",
   "mimetype": "text/x-python",
   "name": "python",
   "nbconvert_exporter": "python",
   "pygments_lexer": "ipython3",
   "version": "3.10.2"
  }
 },
 "nbformat": 4,
 "nbformat_minor": 5
}
